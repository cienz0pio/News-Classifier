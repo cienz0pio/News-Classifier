{
 "cells": [
  {
   "cell_type": "markdown",
   "id": "9b2b11c0-feb4-4228-91c6-4247b27a633d",
   "metadata": {
    "editable": true,
    "slideshow": {
     "slide_type": ""
    },
    "tags": []
   },
   "source": [
    "# Progetto Web&IR\n",
    "### Obiettivo : Classificare argomento notizia in base a :\n",
    "1. Headline\n",
    "2. Short description\n",
    "#### Cosa andremo a fare :\n",
    "* Esplorazione dei dati\n",
    "* Preprocessamento\n",
    "* Addestramento\n",
    "* Valutazione"
   ]
  },
  {
   "cell_type": "code",
   "execution_count": 50,
   "id": "4ee370ea-06b8-4c75-aa64-f613f0a83eed",
   "metadata": {
    "editable": true,
    "slideshow": {
     "slide_type": ""
    },
    "tags": []
   },
   "outputs": [],
   "source": [
    "#Definzione delle librerie necessarie\n",
    "import re\n",
    "import pandas as pd\n",
    "import nltk\n",
    "from nltk.corpus import stopwords\n",
    "from nltk.stem import WordNetLemmatizer\n",
    "import gensim\n",
    "import numpy as np\n",
    "import matplotlib.pyplot as plt\n",
    "from sklearn.model_selection import train_test_split, StratifiedShuffleSplit, StratifiedKFold\n",
    "from sklearn.metrics import confusion_matrix\n",
    "from sklearn.feature_extraction.text import CountVectorizer, TfidfTransformer\n",
    "from sklearn.svm import SVC\n",
    "from sklearn.model_selection import GridSearchCV\n",
    "from sklearn import metrics\n",
    "from sklearn.pipeline import Pipeline\n",
    "from time import time\n",
    "from sklearn.metrics import roc_curve, auc, roc_auc_score\n",
    "from sklearn.utils.validation import check_X_y\n",
    "import json\n",
    "import csv\n",
    "from sklearn.feature_selection import SelectPercentile"
   ]
  },
  {
   "cell_type": "code",
   "execution_count": 22,
   "id": "62e74155-dc24-4127-8c2c-6753fe123239",
   "metadata": {},
   "outputs": [],
   "source": [
    "# Apriamo e leggiamo il file json\n",
    "with open('News_Category_Dataset.json', 'r') as json_file:\n",
    "    # Iteriamo sul file\n",
    "    for line in json_file:\n",
    "        item = json.loads(line)\n",
    "\n",
    "        # Estraiamo i campi\n",
    "        link = item.get('link', '')\n",
    "        headline = item.get('headline', '')\n",
    "        category = item.get('category', '')\n",
    "        short_description = item.get('short_description', '')\n",
    "        authors = ', '.join(item.get('authors', []))\n",
    "        date = item.get('date', '')\n",
    "\n",
    "        # Scriviamo i campi nel file csv\n",
    "        with open('News_Category_Dataset.csv', 'a', newline='', encoding='utf-8') as csv_file:\n",
    "            writer = csv.writer(csv_file)\n",
    "            writer.writerow([link, headline, category, short_description, authors, date])"
   ]
  },
  {
   "cell_type": "code",
   "execution_count": 23,
   "id": "bf942f98-8610-4a83-b33e-edae356754c4",
   "metadata": {},
   "outputs": [],
   "source": [
    "# Definiamo le colonne\n",
    "column_types = {\n",
    "    'link': str,\n",
    "    'headline': str,\n",
    "    'category': str,\n",
    "    'short_description': str,\n",
    "    'authors': str,\n",
    "    'date': str\n",
    "}\n",
    "\n",
    "# Riscriviamo \n",
    "column_names = ['link', 'headline', 'category', 'short_description', 'authors', 'date']\n",
    "\n",
    "df = pd.read_csv('News_Category_Dataset.csv', dtype=column_types, names=column_names)"
   ]
  },
  {
   "cell_type": "markdown",
   "id": "99e1b99d-0077-43bd-a96b-398cba84e7c6",
   "metadata": {},
   "source": [
    "### Data Esploration"
   ]
  },
  {
   "cell_type": "code",
   "execution_count": 24,
   "id": "7a1d0bee-ab7f-438f-94cd-546a007d88d9",
   "metadata": {},
   "outputs": [
    {
     "name": "stdout",
     "output_type": "stream",
     "text": [
      "(419054, 6)\n"
     ]
    }
   ],
   "source": [
    "print(df.shape)"
   ]
  },
  {
   "cell_type": "code",
   "execution_count": 25,
   "id": "d45d9c0b-9873-4d4f-8fd9-bbb4bbc0e05f",
   "metadata": {
    "editable": true,
    "slideshow": {
     "slide_type": ""
    },
    "tags": []
   },
   "outputs": [
    {
     "name": "stdout",
     "output_type": "stream",
     "text": [
      "                                                link  \\\n",
      "0  https://www.huffpost.com/entry/covid-boosters-...   \n",
      "1  https://www.huffpost.com/entry/american-airlin...   \n",
      "2  https://www.huffpost.com/entry/funniest-tweets...   \n",
      "3  https://www.huffpost.com/entry/funniest-parent...   \n",
      "4  https://www.huffpost.com/entry/amy-cooper-lose...   \n",
      "\n",
      "                                            headline   category  \\\n",
      "0  Over 4 Million Americans Roll Up Sleeves For O...  U.S. NEWS   \n",
      "1  American Airlines Flyer Charged, Banned For Li...  U.S. NEWS   \n",
      "2  23 Of The Funniest Tweets About Cats And Dogs ...     COMEDY   \n",
      "3  The Funniest Tweets From Parents This Week (Se...  PARENTING   \n",
      "4  Woman Who Called Cops On Black Bird-Watcher Lo...  U.S. NEWS   \n",
      "\n",
      "                                   short_description  \\\n",
      "0  Health experts said it is too early to predict...   \n",
      "1  He was subdued by passengers and crew when he ...   \n",
      "2  \"Until you have a dog you don't understand wha...   \n",
      "3  \"Accidentally put grown-up toothpaste on my to...   \n",
      "4  Amy Cooper accused investment firm Franklin Te...   \n",
      "\n",
      "                                             authors        date  \n",
      "0  C, a, r, l, a,  , K, .,  , J, o, h, n, s, o, n...  2022-09-23  \n",
      "1           M, a, r, y,  , P, a, p, e, n, f, u, s, s  2022-09-23  \n",
      "2              E, l, y, s, e,  , W, a, n, s, h, e, l  2022-09-23  \n",
      "3     C, a, r, o, l, i, n, e,  , B, o, l, o, g, n, a  2022-09-23  \n",
      "4           N, i, n, a,  , G, o, l, g, o, w, s, k, i  2022-09-22  \n"
     ]
    }
   ],
   "source": [
    "print(df.head())"
   ]
  },
  {
   "cell_type": "code",
   "execution_count": 26,
   "id": "5fefd712-236a-4d2e-a2cd-b0fbef29a568",
   "metadata": {
    "editable": true,
    "slideshow": {
     "slide_type": ""
    },
    "tags": []
   },
   "outputs": [
    {
     "name": "stdout",
     "output_type": "stream",
     "text": [
      "link                 object\n",
      "headline             object\n",
      "category             object\n",
      "short_description    object\n",
      "authors              object\n",
      "date                 object\n",
      "dtype: object\n"
     ]
    }
   ],
   "source": [
    "print(df.dtypes)"
   ]
  },
  {
   "cell_type": "code",
   "execution_count": 27,
   "id": "040bdf9d-c2a6-4afa-b454-ac44548049ba",
   "metadata": {
    "editable": true,
    "slideshow": {
     "slide_type": ""
    },
    "tags": []
   },
   "outputs": [
    {
     "name": "stdout",
     "output_type": "stream",
     "text": [
      "Valori null: \n",
      "link                     0\n",
      "headline                12\n",
      "category                 0\n",
      "short_description    39424\n",
      "authors              74836\n",
      "date                     0\n",
      "dtype: int64\n"
     ]
    }
   ],
   "source": [
    "print('Valori null: ')\n",
    "print(df.isnull().sum())"
   ]
  },
  {
   "cell_type": "markdown",
   "id": "a8aa26c5-8c9d-480a-a93a-569596ffcc1d",
   "metadata": {
    "editable": true,
    "slideshow": {
     "slide_type": ""
    },
    "tags": []
   },
   "source": [
    "Le colonne link, authors e date sono inutili per il classificatore, quindi li droppiamo :"
   ]
  },
  {
   "cell_type": "code",
   "execution_count": 28,
   "id": "e2c2ca54-6d37-48b9-8ac1-23916a9dd93c",
   "metadata": {},
   "outputs": [],
   "source": [
    "df = df.drop('link', axis=1)\n",
    "df = df.drop('authors', axis=1)\n",
    "df = df.drop('date', axis=1)"
   ]
  },
  {
   "cell_type": "markdown",
   "id": "df83ebb7-8aac-4571-899b-a72f95c7d300",
   "metadata": {},
   "source": [
    "E dato che ci sono circa 20.000 istanze nulle nella 'short_description' droppiamo anche quelle :"
   ]
  },
  {
   "cell_type": "code",
   "execution_count": 29,
   "id": "8608b1ae-0508-4fbf-8898-a5d3bbe58196",
   "metadata": {},
   "outputs": [
    {
     "name": "stdout",
     "output_type": "stream",
     "text": [
      "                                            headline   category  \\\n",
      "0  Over 4 Million Americans Roll Up Sleeves For O...  U.S. NEWS   \n",
      "1  American Airlines Flyer Charged, Banned For Li...  U.S. NEWS   \n",
      "2  23 Of The Funniest Tweets About Cats And Dogs ...     COMEDY   \n",
      "3  The Funniest Tweets From Parents This Week (Se...  PARENTING   \n",
      "4  Woman Who Called Cops On Black Bird-Watcher Lo...  U.S. NEWS   \n",
      "\n",
      "                                   short_description  \n",
      "0  Health experts said it is too early to predict...  \n",
      "1  He was subdued by passengers and crew when he ...  \n",
      "2  \"Until you have a dog you don't understand wha...  \n",
      "3  \"Accidentally put grown-up toothpaste on my to...  \n",
      "4  Amy Cooper accused investment firm Franklin Te...   \n",
      "\n",
      "headline             0\n",
      "category             0\n",
      "short_description    0\n",
      "dtype: int64\n"
     ]
    }
   ],
   "source": [
    "df.dropna(subset=[\"short_description\"], inplace=True)\n",
    "df.dropna(subset=[\"headline\"], inplace=True)\n",
    "print(df.head(),'\\n')\n",
    "print(df.isnull().sum())"
   ]
  },
  {
   "cell_type": "markdown",
   "id": "38b44fa8-80f1-4bb0-8a94-e1d65e820e92",
   "metadata": {},
   "source": [
    "Ora vediamo la distribuzione delle classi di category."
   ]
  },
  {
   "cell_type": "code",
   "execution_count": 30,
   "id": "980233d3-3ee2-44d9-9106-7416319bed60",
   "metadata": {},
   "outputs": [
    {
     "data": {
      "image/png": "[encoded data removed]",
      "text/plain": [
       "<Figure size 1000x800 with 1 Axes>"
      ]
     },
     "metadata": {},
     "output_type": "display_data"
    }
   ],
   "source": [
    "counts = df['category'].value_counts()\n",
    "plt.figure(figsize=(10, 8))\n",
    "counts.plot(kind='barh')\n",
    "plt.xlabel('Classe')\n",
    "plt.ylabel('Conteggio')\n",
    "plt.title('Distribuzione delle classi nel dataset')\n",
    "plt.show()"
   ]
  },
  {
   "cell_type": "markdown",
   "id": "a8076744-9f36-4cc3-b9e7-de08268a0a46",
   "metadata": {},
   "source": [
    "Dato che sono troppe classi e troppo sbilanciate tra loro prendo solamente un sottoinsieme delle classi totali :"
   ]
  },
  {
   "cell_type": "code",
   "execution_count": 31,
   "id": "3e0bb681-490e-4ca9-a684-fc28cd94ece0",
   "metadata": {},
   "outputs": [],
   "source": [
    "classi_da_includere = ['DIVORCE', 'PARENTS', 'WEDDINGS', 'THE WORLDPOST', 'BLACK VOICES', 'SPORTS']\n",
    "df = df[df['category'].isin(classi_da_includere)]"
   ]
  },
  {
   "cell_type": "markdown",
   "id": "e7ef07d9-5581-4895-ada7-b40db17daaa4",
   "metadata": {},
   "source": [
    "Rivediamo il grafico :"
   ]
  },
  {
   "cell_type": "code",
   "execution_count": 32,
   "id": "2f107af6-dc77-40ea-85e7-006e7d77f78b",
   "metadata": {},
   "outputs": [
    {
     "data": {
      "image/png": "[encoded data removed]",
      "text/plain": [
       "<Figure size 1000x800 with 1 Axes>"
      ]
     },
     "metadata": {},
     "output_type": "display_data"
    }
   ],
   "source": [
    "counts = df['category'].value_counts()\n",
    "plt.figure(figsize=(10, 8))\n",
    "counts.plot(kind='barh')\n",
    "plt.xlabel('Classe')\n",
    "plt.ylabel('Conteggio')\n",
    "plt.title('Distribuzione delle classi nel dataset')\n",
    "plt.show()"
   ]
  },
  {
   "cell_type": "markdown",
   "id": "6f58d9f9-2613-4a7b-b341-4b79041c22af",
   "metadata": {},
   "source": [
    "Andiamo a definire una funzione di preprocessamento del testo :"
   ]
  },
  {
   "cell_type": "markdown",
   "id": "cf73055f-be87-4085-9d9a-5311eab83be4",
   "metadata": {},
   "source": [
    "### Preprocessamento"
   ]
  },
  {
   "cell_type": "code",
   "execution_count": 54,
   "id": "430a70c8-fb6c-475c-b8ce-ddb3d98e5a38",
   "metadata": {},
   "outputs": [],
   "source": [
    "def transformText(text):\n",
    "    #Identifichiamo le stop words\n",
    "    stops = set(stopwords.words(\"english\"))\n",
    "    #Eseguiamo una conversione lowercase di tutte le word\n",
    "    text = text.lower()\n",
    "    #Rimozione dei numerici\n",
    "    text = gensim.parsing.preprocessing.strip_numeric(text)\n",
    "    #Rimozione degli spazi bianchi multipli consecutivi da una stringa di testo\n",
    "    text = gensim.corpora.textcorpus.strip_multiple_whitespaces(text)\n",
    "    #Divisione delle words usando split() ed aggiunta nella lista word se non presenti in stops\n",
    "    filtered_words = [word for word in text.split() if word not in stops]\n",
    "    #Join con parole filtrate o processate.\n",
    "    text = \" \".join(filtered_words)\n",
    "    #Rimozione della punteggiatura\n",
    "    text = gensim.parsing.preprocessing.strip_punctuation(text)\n",
    "    #Rimozione di tutte le word aventi lunghezza < 3\n",
    "    text = gensim.parsing.preprocessing.strip_short(text, minsize=3)\n",
    "    # Inizializziamo il lemmatizzatore di NLTK\n",
    "    lemmatizer = WordNetLemmatizer()\n",
    "    # Lemmatizzazione delle words\n",
    "    text = ' '.join([lemmatizer.lemmatize(word) for word in text.split()])\n",
    "    \n",
    "    return text"
   ]
  },
  {
   "cell_type": "code",
   "execution_count": 56,
   "id": "63693264-dca5-4b0b-a80f-460bf4fb4a7c",
   "metadata": {},
   "outputs": [
    {
     "name": "stdout",
     "output_type": "stream",
     "text": [
      "                                             headline category  \\\n",
      "17       maury will base stealing shortstop dodger dy   SPORTS   \n",
      "26  la vega ace win first wnba title chelsea gray ...   SPORTS   \n",
      "61  boston marathon make race inclusive nonbinary ...   SPORTS   \n",
      "62  anthony varvaro mlb pitcher turned transit cop...   SPORTS   \n",
      "67     carlos alcaraz win open slam title top ranking   SPORTS   \n",
      "\n",
      "                                    short_description  \n",
      "17  maury will helped los angeles dodger win three...  \n",
      "26   la vega never professional sport champion sunday  \n",
      "61  race organizer say nonbinary athlete register ...  \n",
      "62  varvaro pitched mostly atlanta brave started l...  \n",
      "67  carlos alcaraz defeated casper ruud open final...  \n"
     ]
    }
   ],
   "source": [
    "#Applichiamo transformText tutte le righe del dataset\n",
    "df1 = df.copy()\n",
    "df1['headline'] = df['headline'].map(transformText)\n",
    "df1['short_description'] = df['short_description'].map(transformText)\n",
    "print(df1.head())"
   ]
  },
  {
   "cell_type": "markdown",
   "id": "434799d6-d4e4-4b3a-b20d-c7f92f59680a",
   "metadata": {},
   "source": [
    "Dopo aver preprocessato il testo andiamo a creare due dataframe, ognuno con due colonne, per poter creare e confrontare due modelli, uno addestrato su 'headline' e l'altro invece su 'short_description' "
   ]
  },
  {
   "cell_type": "code",
   "execution_count": 57,
   "id": "8ce5f347-5c8a-4832-bb6d-53ccf652140b",
   "metadata": {},
   "outputs": [
    {
     "name": "stdout",
     "output_type": "stream",
     "text": [
      "Vediamo le due train_test_split:\n",
      "\n",
      "SPORTS           7038\n",
      "BLACK VOICES     6658\n",
      "WEDDINGS         5883\n",
      "THE WORLDPOST    5874\n",
      "PARENTS          5712\n",
      "DIVORCE          5459\n",
      "Name: category, dtype: int64 \n",
      "\n",
      "SPORTS           7038\n",
      "BLACK VOICES     6658\n",
      "WEDDINGS         5883\n",
      "THE WORLDPOST    5874\n",
      "PARENTS          5712\n",
      "DIVORCE          5459\n",
      "Name: category, dtype: int64\n"
     ]
    }
   ],
   "source": [
    "# Suddivide gli attributi e la classe target in set di addestramento e test\n",
    "X1_train, X1_test, y1_train, y1_test = train_test_split(df1['headline'], df1['category'], test_size=0.20, random_state=42)\n",
    "X2_train, X2_test, y2_train, y2_test = train_test_split(df1['short_description'], df1['category'], test_size=0.20, random_state=42)\n",
    "print('Vediamo le due train_test_split:\\n')\n",
    "print(y1_train.value_counts(),'\\n')\n",
    "print(y2_train.value_counts())"
   ]
  },
  {
   "cell_type": "code",
   "execution_count": 58,
   "id": "9ac261a9-a6ff-40ec-9ad6-0b6859029031",
   "metadata": {},
   "outputs": [],
   "source": [
    "#Definizione della pipeline con tutti i suoi passaggi\n",
    "pipeline = Pipeline([\n",
    "    (\"vect\", CountVectorizer()),\n",
    "    (\"tfidf\", TfidfTransformer()), #trasformazione TF-IDF\n",
    "    (\"selector\", SelectPercentile()),\n",
    "    (\"clf\", SVC(kernel='linear')),\n",
    "])"
   ]
  },
  {
   "cell_type": "code",
   "execution_count": 59,
   "id": "061dd8be-5899-4452-a5ba-919252c6dd34",
   "metadata": {},
   "outputs": [],
   "source": [
    "parameters = {\n",
    "    'tfidf__use_idf': (True, False), #Uso del parametro ID\n",
    "    'selector__percentile': (30,40), #Percentuale feature più importanti\n",
    "    'clf__C': (1, 10), #Valore parametro C\n",
    "}"
   ]
  },
  {
   "cell_type": "markdown",
   "id": "dee9b834-8225-43c4-beef-0e879e4f2ab1",
   "metadata": {},
   "source": [
    "### Addestramento e Valutazione\n",
    "* Primo modello ( headline )\n",
    "* Secondo modello ( short_description )\n",
    "  "
   ]
  },
  {
   "cell_type": "markdown",
   "id": "3edd5704-1251-4d3b-b753-f16043b2a8d5",
   "metadata": {},
   "source": [
    "#### Primo modello :"
   ]
  },
  {
   "cell_type": "code",
   "execution_count": 60,
   "id": "7d117d21-8d04-49a0-a9c7-c04daee20671",
   "metadata": {
    "scrolled": true
   },
   "outputs": [
    {
     "name": "stdout",
     "output_type": "stream",
     "text": [
      "{'tfidf__use_idf': (True, False), 'selector__percentile': (30, 40), 'clf__C': (1, 10)}\n",
      "Fitting 5 folds for each of 8 candidates, totalling 40 fits\n",
      "Tempo di esecuzione: 901.920s\n",
      "\n",
      "Best score: 0.905\n",
      "Migliore configurazione:\n",
      "\tclf__C: 10\n",
      "\tselector__percentile: 40\n",
      "\ttfidf__use_idf: True\n"
     ]
    }
   ],
   "source": [
    "grid_search = GridSearchCV(pipeline, parameters, n_jobs=-1, verbose=10, error_score='raise')\n",
    "\n",
    "print(parameters)\n",
    "t0 = time()\n",
    "\n",
    "#Fit della GridSearchCV\n",
    "grid_search.fit(X1_train, y1_train)\n",
    "\n",
    "#Stampa del tempo impiegato dall'esecuzione\n",
    "print(\"Tempo di esecuzione: %0.3fs\" % (time() - t0))\n",
    "print()\n",
    "\n",
    "#Stampa dei parametri ottimali\n",
    "print(\"Best score: %0.3f\" % grid_search.best_score_)\n",
    "print(\"Migliore configurazione:\")\n",
    "best_parameters = grid_search.best_estimator_.get_params()\n",
    "for param_name in sorted(parameters.keys()):\n",
    "    print(\"\\t%s: %r\" % (param_name, best_parameters[param_name]))"
   ]
  },
  {
   "cell_type": "code",
   "execution_count": 61,
   "id": "7f3d8a33-e698-441f-963c-9e78500519d6",
   "metadata": {},
   "outputs": [
    {
     "name": "stdout",
     "output_type": "stream",
     "text": [
      "Cross-Validation Scores: [0.9063609063609064, 0.9167349167349167, 0.924924924924925, 0.9197379197379197, 0.9098853085745494, 0.9194429273620972, 0.9180775532495904, 0.9194429273620972, 0.9180775532495904, 0.9216275259421082]\n",
      "Mean Score: 0.9174312463498702\n"
     ]
    }
   ],
   "source": [
    "best_pipe = grid_search.best_estimator_\n",
    "\n",
    "#Definizione della cross-validation\n",
    "cv = StratifiedKFold(n_splits=10, shuffle=True, random_state=42)\n",
    "\n",
    "#Esecuzione della cross-validation\n",
    "scores = []\n",
    "for train_index, val_index in cv.split(X1_train, y1_train):\n",
    "    #Insiemi di addestramento e validazione\n",
    "    X_cv_train, X_cv_val = X1_train.iloc[train_index], X1_train.iloc[val_index]\n",
    "    y_cv_train, y_cv_val = y1_train.iloc[train_index], y1_train.iloc[val_index]\n",
    "    \n",
    "    # Fit del modello sulla porzione di training del fold corrente\n",
    "    best_pipe.fit(X_cv_train, y_cv_train)\n",
    "    \n",
    "    # Valutazione del modello sul fold di validazione corrente\n",
    "    score = best_pipe.score(X_cv_val, y_cv_val)\n",
    "    scores.append(score)\n",
    "\n",
    "#Media dei punteggi\n",
    "mean_score = sum(scores) / len(scores)\n",
    "\n",
    "#Stampa dei risultati della cross-validation\n",
    "print(\"Cross-Validation Scores:\", scores)\n",
    "print(\"Mean Score:\", mean_score)"
   ]
  },
  {
   "cell_type": "code",
   "execution_count": 62,
   "id": "a3a542c2-af44-44c2-ae4f-e7fb1aa97877",
   "metadata": {},
   "outputs": [],
   "source": [
    "predicted = best_pipe.predict(X1_test)"
   ]
  },
  {
   "cell_type": "code",
   "execution_count": 63,
   "id": "9b0aeba6-894a-4ba3-92dc-094b33aa07f0",
   "metadata": {},
   "outputs": [
    {
     "name": "stdout",
     "output_type": "stream",
     "text": [
      "Confusion matrix: \n",
      " [[1553   13   52   53   15   10]\n",
      " [  47 1198   59    9    5   75]\n",
      " [  42   36 1272   14   14   22]\n",
      " [  47    5   25 1690   22    1]\n",
      " [  34    4   15   13 1383    5]\n",
      " [  23   30   17    6    4 1343]]\n",
      "               precision    recall  f1-score   support\n",
      "\n",
      " BLACK VOICES       0.89      0.92      0.90      1696\n",
      "      DIVORCE       0.93      0.86      0.89      1393\n",
      "      PARENTS       0.88      0.91      0.90      1400\n",
      "       SPORTS       0.95      0.94      0.95      1790\n",
      "THE WORLDPOST       0.96      0.95      0.95      1454\n",
      "     WEDDINGS       0.92      0.94      0.93      1423\n",
      "\n",
      "     accuracy                           0.92      9156\n",
      "    macro avg       0.92      0.92      0.92      9156\n",
      " weighted avg       0.92      0.92      0.92      9156\n",
      "\n"
     ]
    }
   ],
   "source": [
    "print('Confusion matrix: \\n', confusion_matrix(y1_test, predicted))\n",
    "print(metrics.classification_report(y1_test, predicted))"
   ]
  },
  {
   "cell_type": "markdown",
   "id": "f64691cb-b7b5-4acb-a6c1-de10e058b427",
   "metadata": {},
   "source": [
    "#### Secondo modello :"
   ]
  },
  {
   "cell_type": "code",
   "execution_count": 64,
   "id": "399eaa01-5c0a-459d-bd4f-e3e4c654119c",
   "metadata": {},
   "outputs": [
    {
     "name": "stdout",
     "output_type": "stream",
     "text": [
      "{'tfidf__use_idf': (True, False), 'selector__percentile': (30, 40), 'clf__C': (1, 10)}\n",
      "Fitting 5 folds for each of 8 candidates, totalling 40 fits\n",
      "Tempo di esecuzione: 4463.519s\n",
      "\n",
      "Best score: 0.822\n",
      "Migliore configurazione:\n",
      "\tclf__C: 10\n",
      "\tselector__percentile: 40\n",
      "\ttfidf__use_idf: True\n"
     ]
    }
   ],
   "source": [
    "grid_search2 = GridSearchCV(pipeline, parameters, n_jobs=-1, verbose=10)\n",
    "\n",
    "print(parameters)\n",
    "t0 = time()\n",
    "\n",
    "#Fit della GridSearchCV\n",
    "grid_search2.fit(X2_train, y2_train)\n",
    "\n",
    "#Stampa del tempo impiegato dall'esecuzione\n",
    "print(\"Tempo di esecuzione: %0.3fs\" % (time() - t0))\n",
    "print()\n",
    "\n",
    "#Stampa dei parametri ottimali\n",
    "print(\"Best score: %0.3f\" % grid_search2.best_score_)\n",
    "print(\"Migliore configurazione:\")\n",
    "best_parameters2 = grid_search2.best_estimator_.get_params()\n",
    "for param_name in sorted(parameters.keys()):\n",
    "    print(\"\\t%s: %r\" % (param_name, best_parameters2[param_name]))"
   ]
  },
  {
   "cell_type": "code",
   "execution_count": 68,
   "id": "b8178ede-64f8-447e-a6a4-4882fa8904e4",
   "metadata": {},
   "outputs": [
    {
     "name": "stdout",
     "output_type": "stream",
     "text": [
      "Cross-Validation Scores: [0.8372918372918373, 0.8416598416598416, 0.8479388479388479, 0.8419328419328419, 0.8394320043691972, 0.8388858547241944, 0.8375204806116876, 0.8536318951392682, 0.84598580010923, 0.8413435281267068]\n",
      "Mean Score: 0.8425622931903654\n"
     ]
    }
   ],
   "source": [
    "best_pipe2 = grid_search2.best_estimator_\n",
    "\n",
    "#Definizione della cross-validation\n",
    "cv2 = StratifiedKFold(n_splits=10, shuffle=True, random_state=42)\n",
    "\n",
    "#Esecuzione della cross-validation\n",
    "scores2 = []\n",
    "for train_index, val_index in cv2.split(X2_train, y2_train):\n",
    "    #Insiemi di addestramento e validazione\n",
    "    X2_cv_train, X2_cv_val = X2_train.iloc[train_index], X2_train.iloc[val_index]\n",
    "    y2_cv_train, y2_cv_val = y2_train.iloc[train_index], y2_train.iloc[val_index]\n",
    "    \n",
    "    # Fit del modello sulla porzione di training del fold corrente\n",
    "    best_pipe2.fit(X2_cv_train, y2_cv_train)\n",
    "    \n",
    "    # Valutazione del modello sul fold di validazione corrente\n",
    "    score2 = best_pipe2.score(X2_cv_val, y2_cv_val)\n",
    "    scores2.append(score2)\n",
    "\n",
    "#Media dei punteggi\n",
    "mean_score2 = sum(scores2) / len(scores2)\n",
    "\n",
    "#Stampa dei risultati della cross-validation\n",
    "print(\"Cross-Validation Scores:\", scores2)\n",
    "print(\"Mean Score:\", mean_score2)"
   ]
  },
  {
   "cell_type": "code",
   "execution_count": 69,
   "id": "163d722d-108c-4570-9dc3-e008e62bd414",
   "metadata": {},
   "outputs": [],
   "source": [
    "predicted2 = best_pipe2.predict(X2_test)"
   ]
  },
  {
   "cell_type": "code",
   "execution_count": 70,
   "id": "b2a0bd30-9a81-4874-923d-7e95ee217008",
   "metadata": {},
   "outputs": [
    {
     "name": "stdout",
     "output_type": "stream",
     "text": [
      "Confusion matrix: \n",
      " [[1409   18   87  121   47   14]\n",
      " [  42 1209   49   17    2   74]\n",
      " [  84   49 1108  114   11   34]\n",
      " [ 106    9   60 1560   48    7]\n",
      " [  87    4   40   68 1245   10]\n",
      " [  31   79   31   26   10 1246]]\n",
      "               precision    recall  f1-score   support\n",
      "\n",
      " BLACK VOICES       0.80      0.83      0.82      1696\n",
      "      DIVORCE       0.88      0.87      0.88      1393\n",
      "      PARENTS       0.81      0.79      0.80      1400\n",
      "       SPORTS       0.82      0.87      0.84      1790\n",
      "THE WORLDPOST       0.91      0.86      0.88      1454\n",
      "     WEDDINGS       0.90      0.88      0.89      1423\n",
      "\n",
      "     accuracy                           0.85      9156\n",
      "    macro avg       0.85      0.85      0.85      9156\n",
      " weighted avg       0.85      0.85      0.85      9156\n",
      "\n"
     ]
    }
   ],
   "source": [
    "print('Confusion matrix: \\n', confusion_matrix(y2_test, predicted2))\n",
    "print(metrics.classification_report(y2_test, predicted2))"
   ]
  }
 ],
 "metadata": {
  "kernelspec": {
   "display_name": "Python 3 (ipykernel)",
   "language": "python",
   "name": "python3"
  },
  "language_info": {
   "codemirror_mode": {
    "name": "ipython",
    "version": 3
   },
   "file_extension": ".py",
   "mimetype": "text/x-python",
   "name": "python",
   "nbconvert_exporter": "python",
   "pygments_lexer": "ipython3",
   "version": "3.10.10"
  }
 },
 "nbformat": 4,
 "nbformat_minor": 5
}
